{
 "cells": [
  {
   "cell_type": "code",
   "execution_count": null,
   "metadata": {},
   "outputs": [],
   "source": [
    "import os\n",
    "import numpy as np\n",
    "import pandas as pd\n",
    "import matplotlib.pyplot as plt\n",
    "import seaborn as sns\n",
    "import nibabel as nib\n",
    "import torch\n",
    "import sys\n",
    "\n",
    "from nimosef.data.dataset import NiftiDataset\n",
    "from nimosef.utils.visualization import get_imgs_experiment"
   ]
  },
  {
   "cell_type": "code",
   "execution_count": null,
   "metadata": {},
   "outputs": [],
   "source": [
    "data_path=\"/media/jaume/DATA/Data/Test_NIMOSEF_Dataset\"\n",
    "splits_filename=f\"{data_path}/derivatives/manifests_nimosef/dataset_manifest.json\"\n",
    "\n",
    "mode=\"train\"\n",
    "results_folder = f\"{data_path}/derivatives/nimosef_results\"\n",
    "save_folder_results = os.path.join(results_folder, f\"results_{mode}_comparison\")\n",
    "os.makedirs(save_folder_results, exist_ok=True)"
   ]
  },
  {
   "cell_type": "code",
   "execution_count": null,
   "metadata": {},
   "outputs": [],
   "source": [
    "dataset = NiftiDataset(splits_filename, mode=mode)\n",
    "subjects = dataset.patients\n",
    "subj_id = subjects[0]\n",
    "\n",
    "im_gt, im_pred, seg_gt, seg_pred, dvol  = get_imgs_experiment(results_folder, subj_id)"
   ]
  },
  {
   "cell_type": "code",
   "execution_count": null,
   "metadata": {},
   "outputs": [],
   "source": [
    "overlay = True\n",
    "t_list = [0,10,20,30,40]\n",
    "z_list = [3,5,7]\n",
    "\n",
    "# Concatenate along the time axis (0 -> vertical stacking)\n",
    "gt_seg_img_t = np.concatenate([seg_gt[..., t] for t in t_list], axis=1)\n",
    "pred_seg_img_t = np.concatenate([seg_pred[..., t] for t in t_list], axis=1)\n",
    "\n",
    "# Concatenate along the depth axis (1 -> horizontal stacking)\n",
    "gt_seg_img = np.concatenate([gt_seg_img_t[..., z] for z in z_list], axis=0)\n",
    "pred_seg_img = np.concatenate([pred_seg_img_t[..., z] for z in z_list], axis=0)\n",
    "\n",
    "# Now the intensity images\n",
    "im_gt_img_t = np.concatenate([im_gt[..., t] for t in t_list], axis=1)\n",
    "im_gt_plot = np.concatenate([im_gt_img_t[..., z] for z in z_list], axis=0)\n",
    "\n",
    "im_pred_im_t = np.concatenate([im_pred[..., t] for t in t_list], axis=1)\n",
    "im_pred_plot = np.concatenate([im_pred_im_t[..., z] for z in z_list], axis=0)\n",
    "\n",
    "# Path of gt\n",
    "save_gt_path = os.path.join(save_folder_results, f\"train_{subj_id}_gt_plot.png\")\n",
    "save_pred_path = os.path.join(save_folder_results, f\"train_{subj_id}_baseline_plot.png\")"
   ]
  },
  {
   "cell_type": "code",
   "execution_count": null,
   "metadata": {},
   "outputs": [],
   "source": [
    "fig, ax = plt.subplots(1, 1, figsize=(20, 20))\n",
    "ax.imshow(im_gt_plot, cmap='gray', origin='lower', interpolation='none')\n",
    "ax.imshow(gt_seg_img, cmap='jet', origin='lower', interpolation='none', alpha=0.25)\n",
    "ax.set_title('GT Segmentation')\n",
    "fig.tight_layout()\n",
    "fig.savefig(save_gt_path, dpi=300, bbox_inches='tight', pad_inches=0)\n",
    "\n",
    "fig, ax = plt.subplots(1, 1, figsize=(20, 20))\n",
    "ax.imshow(im_pred_plot, cmap='gray', origin='lower', interpolation='none')\n",
    "ax.imshow(pred_seg_img, cmap='jet', origin='lower', interpolation='none', alpha=0.25)\n",
    "ax.set_title('Predicted Segmentation')\n",
    "fig.tight_layout()\n",
    "fig.savefig(save_pred_path, dpi=300, bbox_inches='tight', pad_inches=0)"
   ]
  },
  {
   "cell_type": "code",
   "execution_count": null,
   "metadata": {},
   "outputs": [],
   "source": []
  }
 ],
 "metadata": {
  "kernelspec": {
   "display_name": "nimosef",
   "language": "python",
   "name": "python3"
  },
  "language_info": {
   "codemirror_mode": {
    "name": "ipython",
    "version": 3
   },
   "file_extension": ".py",
   "mimetype": "text/x-python",
   "name": "python",
   "nbconvert_exporter": "python",
   "pygments_lexer": "ipython3",
   "version": "3.10.18"
  }
 },
 "nbformat": 4,
 "nbformat_minor": 2
}
