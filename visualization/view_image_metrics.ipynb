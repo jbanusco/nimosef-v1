{
 "cells": [
  {
   "cell_type": "code",
   "execution_count": null,
   "metadata": {},
   "outputs": [],
   "source": [
    "import os\n",
    "import numpy as np\n",
    "import pandas as pd\n",
    "import matplotlib.pyplot as plt\n",
    "import seaborn as sns\n",
    "import pandas as pd"
   ]
  },
  {
   "cell_type": "code",
   "execution_count": null,
   "metadata": {},
   "outputs": [],
   "source": [
    "data_path=\"/media/jaume/DATA/Data/Test_NIMOSEF_Dataset\"\n",
    "splits_filename=f\"{data_path}/derivatives/manifests_nimosef/dataset_manifest.json\"\n",
    "\n",
    "mode=\"train\"\n",
    "results_folder = f\"{data_path}/derivatives/nimosef_results\"\n",
    "save_folder_results = os.path.join(results_folder, f\"results_{mode}_comparison\")\n",
    "os.makedirs(save_folder_results, exist_ok=True)"
   ]
  },
  {
   "cell_type": "code",
   "execution_count": null,
   "metadata": {},
   "outputs": [],
   "source": [
    "volumes_df_path = os.path.join(save_folder_results, 'volumes_imgs.parquet')\n",
    "df_volumes = pd.read_parquet(volumes_df_path)\n",
    "\n",
    "final_df_path = os.path.join(save_folder_results, 'connected_components.parquet')\n",
    "final_df = pd.read_parquet(final_df_path)\n",
    "\n",
    "dice_df_path = os.path.join(save_folder_results, 'dice_score.parquet')\n",
    "df_dice_final = pd.read_parquet(dice_df_path)"
   ]
  },
  {
   "cell_type": "code",
   "execution_count": null,
   "metadata": {},
   "outputs": [],
   "source": [
    "# Assume final_df has columns:\n",
    "# \"subject_id\", \"segmentation_type\", \"label\", \"avg_components\", \"max_components\"\n",
    "\n",
    "# Create an overall summary table by aggregating over subjects\n",
    "summary_overall = (\n",
    "    final_df\n",
    "    .groupby([\"segmentation_type\", \"label\"])\n",
    "    .agg(overall_avg=(\"avg_components\", \"mean\"),\n",
    "         overall_max=(\"max_components\", \"mean\"))\n",
    "    .reset_index()\n",
    ")\n",
    "\n",
    "print(\"Overall summary:\")\n",
    "print(summary_overall)\n",
    "\n",
    "# --- Visualization 1: Bar Plot of Overall Average Connected Components per Label ---\n",
    "plt.figure(figsize=(10, 6))\n",
    "sns.barplot(\n",
    "    data=summary_overall,\n",
    "    x=\"label\",\n",
    "    y=\"overall_avg\",\n",
    "    hue=\"segmentation_type\",\n",
    "    palette=\"viridis\"\n",
    ")\n",
    "plt.title(\"Overall Average Connected Components per Label and Segmentation Type\")\n",
    "plt.xlabel(\"Label\")\n",
    "plt.ylabel(\"Average Connected Components\")\n",
    "plt.legend(title=\"Segmentation Type\")\n",
    "plt.tight_layout()\n",
    "plt.show()\n"
   ]
  },
  {
   "cell_type": "code",
   "execution_count": null,
   "metadata": {},
   "outputs": [],
   "source": [
    "# --- Visualization 1: Bar Plot of Overall Average Connected Components per Label ---\n",
    "plt.figure(figsize=(10, 6))\n",
    "sns.barplot(\n",
    "    data=summary_overall,\n",
    "    x=\"label\",\n",
    "    y=\"overall_max\",\n",
    "    hue=\"segmentation_type\",\n",
    "    palette=\"viridis\"\n",
    ")\n",
    "plt.title(\"Overall Max. Connected Components per Label and Segmentation Type\")\n",
    "plt.xlabel(\"Label\")\n",
    "plt.ylabel(\"Max. Connected Components\")\n",
    "plt.legend(title=\"Segmentation Type\")\n",
    "plt.tight_layout()\n",
    "plt.show()"
   ]
  },
  {
   "cell_type": "code",
   "execution_count": null,
   "metadata": {},
   "outputs": [],
   "source": []
  }
 ],
 "metadata": {
  "kernelspec": {
   "display_name": "nimosef",
   "language": "python",
   "name": "python3"
  },
  "language_info": {
   "codemirror_mode": {
    "name": "ipython",
    "version": 3
   },
   "file_extension": ".py",
   "mimetype": "text/x-python",
   "name": "python",
   "nbconvert_exporter": "python",
   "pygments_lexer": "ipython3",
   "version": "3.10.18"
  }
 },
 "nbformat": 4,
 "nbformat_minor": 2
}
